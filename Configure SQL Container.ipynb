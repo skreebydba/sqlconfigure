{
    "metadata": {
        "kernelspec": {
            "name": "powershell",
            "display_name": "PowerShell"
        },
        "language_info": {
            "name": "powershell",
            "codemirror_mode": "shell",
            "mimetype": "text/x-sh",
            "file_extension": ".ps1"
        }
    },
    "nbformat_minor": 2,
    "nbformat": 4,
    "cells": [
        {
            "cell_type": "markdown",
            "source": [
                "## This notebook contains steps for configuring an instance of SQL Server running in a docker container.  It uses PowerShell functions in the DBATools module.  The following script will check if DBATools is installed.  If it is not, it will install it.  If it is installed, it will be updated to the latest version."
            ],
            "metadata": {
                "azdata_cell_guid": "13b8ea81-6ae2-4407-93fd-6bfdd70c927a"
            }
        },
        {
            "cell_type": "code",
            "source": [
                "$exists = (Get-InstalledModule -Name DBATools).Name;\r\n",
                "$exists;\r\n",
                "\r\n",
                "if(!$exists)\r\n",
                "{\r\n",
                "    Install-Module -Name DBATools;   \r\n",
                "}\r\n",
                "else\r\n",
                "{\r\n",
                "    Update-DbaTools;\r\n",
                "}"
            ],
            "metadata": {
                "azdata_cell_guid": "e98e8f23-6719-4ef8-af79-4f94199ccad9"
            },
            "outputs": [],
            "execution_count": 3
        },
        {
            "cell_type": "markdown",
            "source": [
                "## Once DBATools is installed, you are ready to start.  The first step sets max server memory (mb) to a recommended value."
            ],
            "metadata": {
                "azdata_cell_guid": "fe61db78-016a-4f5a-acb1-3da0c7537b1e"
            }
        },
        {
            "cell_type": "code",
            "source": [
                "$path = 'stuff';\r\n",
                "$maxmemory = \"`$cred = Get-Credential;\r\n",
                "Set-DbaMaxMemory -SqlInstance 'localhost,1436' -SqlCredential $cred;\"\r\n",
                "\r\n",
                "$exists = Test-Path $path;\r\n",
                "\r\n",
                "if($exists)\r\n",
                "{\r\n",
                "    Remove-Item -Path $path;\r\n",
                "}\r\n",
                "\r\n",
                "New-Item -Path $path -ItemType file;\r\n",
                "Add-Content -Path $path -Value $maxmemory;"
            ],
            "metadata": {
                "azdata_cell_guid": "b52dcd82-8ca5-4575-a285-65cd8c4ffa5f"
            },
            "outputs": [
                {
                    "name": "stdout",
                    "text": "\n\n    Directory: C:\\Users\\fgill\n\n\nMode                LastWriteTime         Length Name                                                                  \n----                -------------         ------ ----                                                                  \n-a----       12/18/2019   2:04 PM              0 stuff                                                                 \n\n\n",
                    "output_type": "stream"
                }
            ],
            "execution_count": 2
        }
    ]
}