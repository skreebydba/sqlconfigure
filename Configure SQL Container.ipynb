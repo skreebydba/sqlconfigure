{
    "metadata": {
        "kernelspec": {
            "name": "powershell",
            "display_name": "PowerShell"
        },
        "language_info": {
            "name": "powershell",
            "codemirror_mode": "shell",
            "mimetype": "text/x-sh",
            "file_extension": ".ps1"
        }
    },
    "nbformat_minor": 2,
    "nbformat": 4,
    "cells": [
        {
            "cell_type": "markdown",
            "source": [
                "## This notebook contains steps for configuring an instance of SQL Server running in a docker container.  It uses PowerShell functions in the DBATools module.  The following script will check if DBATools is installed.  If it is not, it will install it.  If it is installed, it will be updated to the latest version."
            ],
            "metadata": {
                "azdata_cell_guid": "13b8ea81-6ae2-4407-93fd-6bfdd70c927a"
            }
        },
        {
            "cell_type": "code",
            "source": [
                "$exists = (Get-InstalledModule -Name DBATools).Name;\r\n",
                "$exists;\r\n",
                "\r\n",
                "if(!$exists)\r\n",
                "{\r\n",
                "    Install-Module -Name DBATools;   \r\n",
                "}\r\n",
                "else\r\n",
                "{\r\n",
                "    Update-DbaTools;\r\n",
                "}"
            ],
            "metadata": {
                "azdata_cell_guid": "e98e8f23-6719-4ef8-af79-4f94199ccad9"
            },
            "outputs": [],
            "execution_count": 3
        },
        {
            "cell_type": "markdown",
            "source": [
                "## Once DBATools is installed, you are ready to start.  The first step sets max server memory (mb) to a recommended value."
            ],
            "metadata": {
                "azdata_cell_guid": "fe61db78-016a-4f5a-acb1-3da0c7537b1e"
            }
        },
        {
            "cell_type": "code",
            "source": [
                "$instance = 'localhost,1436';\r\n",
                "$path = 'C:\\Users\\fgill\\Documents\\GitHub\\sqlconfig';\r\n",
                "$username = 'sa';\r\n",
                "$password = 'JuanS0t022';\r\n",
                "Set-Location -Path $path;\r\n",
                "\r\n",
                "Invoke-Sqlcmd -ServerInstance $instance -Database master -InputFile '.\\CreateSqlMaxMemoryProc.sql' -UserName $username -Password $password;\r\n",
                "\r\n",
                "Invoke-Sqlcmd -ServerInstance $instance -Database master -Query 'EXEC SetSqlServerMaxMemory @noexec = 0;' -UserName $username -Password $password;"
            ],
            "metadata": {
                "azdata_cell_guid": "b52dcd82-8ca5-4575-a285-65cd8c4ffa5f"
            },
            "outputs": [
                {
                    "name": "stdout",
                    "text": "\nTotal Physical Memory Total OS Reserve Expected SQL Server Memory Current Configured Value\n--------------------- ---------------- -------------------------- ------------------------\n                    3                1 2048                                           2048\n\n\n",
                    "output_type": "stream"
                }
            ],
            "execution_count": 13
        },
        {
            "cell_type": "markdown",
            "source": [
                "## The next step downloads and installs Adam Machanic's sp_whoisactive stored procedure."
            ],
            "metadata": {
                "azdata_cell_guid": "afeac5b0-7371-4949-bf3e-5e0ae98fdbca"
            }
        },
        {
            "cell_type": "code",
            "source": [
                "$DBAToolsData = Get-DbatoolsConfigValue -FullName \"Path.DbatoolsData\";\r\n",
                "$instance = 'localhost,1436';\r\n",
                "$temp = ([System.IO.Path]::GetTempPath())\r\n",
                "$zipfile = Join-Path -Path $temp -ChildPath \"spwhoisactive.zip\";\r\n",
                "\r\n",
                "$baseUrl = \"https://github.com/amachanic/sp_whoisactive/archive\"\r\n",
                "$latest = (((Invoke-WebRequest -UseBasicParsing -uri https://github.com/amachanic/sp_whoisactive/releases/latest).Links | Where-Object { $PSItem.href -match \"zip\" } | Select-Object href -First 1).href -split '/')[-1]\r\n",
                "\r\n",
                "$url = $baseUrl + \"/\" + $latest\r\n",
                "    \r\n",
                "$LocalCachedCopy = Join-Path -Path $DbatoolsData -ChildPath $latest;\r\n",
                "\r\n",
                "Invoke-WebRequest $url -OutFile $zipfile -ErrorAction Stop -UseBasicParsing\r\n",
                "Copy-Item -Path $zipfile -Destination $LocalCachedCopy\r\n",
                "\r\n",
                "Unblock-File $zipfile -ErrorAction SilentlyContinue\r\n",
                "Expand-Archive -Path $zipfile -DestinationPath $temp -Force\r\n",
                "\r\n",
                "$sqlfile = (Get-ChildItem \"$($temp)who*active*.sql\" -Recurse -ErrorAction SilentlyContinue | Select-Object -First 1).FullName\r\n",
                "\r\n",
                "Invoke-Sqlcmd -ServerInstance $instance -Database master -InputFile $sqlfile -Username sa -Password JuanS0t022;\r\n",
                "\r\n",
                "Remove-Item -Path $zipfile;\r\n",
                "Remove-Item -Path $sqlfile;"
            ],
            "metadata": {
                "azdata_cell_guid": "8ab5e954-705b-4494-8836-4aaeee3adf4d"
            },
            "outputs": [
                {
                    "name": "stdout",
                    "text": "",
                    "output_type": "stream"
                }
            ],
            "execution_count": 18
        }
    ]
}